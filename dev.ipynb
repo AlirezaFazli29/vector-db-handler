{
 "cells": [
  {
   "cell_type": "code",
   "execution_count": null,
   "id": "831daf14",
   "metadata": {},
   "outputs": [],
   "source": [
    "import requests"
   ]
  },
  {
   "cell_type": "code",
   "execution_count": 62,
   "id": "095fc328",
   "metadata": {},
   "outputs": [],
   "source": [
    "c = [\n",
    "    {\n",
    "        \"chunk\": \"The schematics of the Death Star, obtained through classified channels, revealed an architectural vulnerability previously unnoticed by the Empire’s engineers. Deep within the station's complex systems lay a small thermal exhaust port, approximately two meters wide, which provided critical ventilation for the reactor core. Although surrounded by defenses and energy shielding, the port’s existence created a direct conduit to the main reactor. Analysts noted that an explosive impact at this junction could initiate a chain reaction, leading to the catastrophic destruction of the entire station. Despite numerous redundancies built into the station's design, this minute flaw remained an Achilles’ heel that could be exploited by a well-coordinated attack.\",\n",
    "        \"metadata\": {\n",
    "            \"DocId\": 4,\n",
    "            \"ChunkId\": 12,\n",
    "            \"Title\": \"Death Star Blueprints\"\n",
    "        }\n",
    "    },\n",
    "    {\n",
    "        \"chunk\": \"Following the desperate mission led by Princess Leia Organa to retrieve the Death Star plans, the Rebel Alliance conducted a thorough analysis of the station’s schematics. Hidden among the vast blueprints was a seemingly insignificant exhaust port, an outlet crucial for maintaining the reactor’s thermal balance. Rebel strategists hypothesized that a targeted strike, using proton torpedoes, could navigate the port and reach the core, initiating an internal collapse. Although the port was heavily defended by turbo lasers and shielded to resist conventional attacks, the Rebels believed that a skilled pilot with precise aim could succeed. This insight shaped the Rebellion’s bold assault during the Battle of Yavin, where Luke Skywalker, guided by the Force, fired the decisive shot that led to the Death Star’s annihilation, delivering a devastating blow to the Galactic Empire.\",\n",
    "        \"metadata\": {\n",
    "            \"DocId\": 2,\n",
    "            \"ChunkId\": 3,\n",
    "            \"Title\": \"Galactic Civil War Chronicles\"\n",
    "        }\n",
    "    },\n",
    "    {\n",
    "        \"chunk\": \"The critical Death Star plans were recovered during the daring Operation Rogue One, executed by a small band of Rebels led by Cassian Andor and Jyn Erso. Against overwhelming odds, the team infiltrated the Imperial archives on Scarif, a heavily fortified tropical planet. Facing relentless Imperial forces, the group managed to locate the vault containing the Death Star schematics. Despite suffering heavy losses, they successfully transmitted the data to the Rebel fleet before being overwhelmed. This pivotal mission, though tragic in its human cost, provided the Rebel Alliance with the vital intelligence needed to exploit the Death Star’s fatal weakness and ultimately secure one of their first major victories against the Empire.\",\n",
    "        \"metadata\": {\n",
    "            \"DocId\": 7,\n",
    "            \"ChunkId\": 8,\n",
    "            \"Title\": \"The Rogue One Operation\"\n",
    "        }\n",
    "    },\n",
    "    {\n",
    "        \"chunk\": \"Tatooine's twin suns create harsh desert conditions, making it one of the most difficult planets to survive on without proper preparation. The native Tusken Raiders and Jawas have adapted to these extremes over centuries of cultural evolution.\",\n",
    "        \"metadata\": {\n",
    "            \"DocId\": 5,\n",
    "            \"ChunkId\": 9,\n",
    "            \"Title\": \"Tatooine Survival Report\"\n",
    "        }\n",
    "    },\n",
    "    {\n",
    "        \"chunk\": \"The Galactic Senate, once a symbol of democracy, gradually lost its influence as Emperor Palpatine consolidated power. Many senators, feeling powerless against the tide of authoritarianism, either resigned or reluctantly supported the Empire’s new decrees.\",\n",
    "        \"metadata\": {\n",
    "            \"DocId\": 6,\n",
    "            \"ChunkId\": 2,\n",
    "            \"Title\": \"The Fall of the Senate\"\n",
    "        }\n",
    "    },\n",
    "    {\n",
    "        \"chunk\": \"Lightsaber crystals, known as Kyber crystals, are found on planets like Ilum and Jedha. Jedi typically harvest these crystals through a rite of passage called 'The Gathering,' which symbolizes their connection to the Force and their readiness for greater responsibilities.\",\n",
    "        \"metadata\": {\n",
    "            \"DocId\": 9,\n",
    "            \"ChunkId\": 4,\n",
    "            \"Title\": \"Kyber Crystal Lore\"\n",
    "        }\n",
    "    }\n",
    "]"
   ]
  },
  {
   "cell_type": "code",
   "execution_count": 50,
   "id": "85e5cb78",
   "metadata": {},
   "outputs": [],
   "source": [
    "user_id = \"QWERTY\""
   ]
  },
  {
   "cell_type": "code",
   "execution_count": 63,
   "id": "fc6088c8",
   "metadata": {},
   "outputs": [],
   "source": [
    "strings = [d[\"chunk\"] for d in c]\n",
    "metadatas = [d[\"metadata\"] for d in c]"
   ]
  },
  {
   "cell_type": "code",
   "execution_count": 98,
   "id": "90c788d9",
   "metadata": {},
   "outputs": [
    {
     "data": {
      "text/plain": [
       "{'message': 'Service is up and running'}"
      ]
     },
     "execution_count": 98,
     "metadata": {},
     "output_type": "execute_result"
    }
   ],
   "source": [
    "requests.get(\"http://127.0.0.1:8080/\").json()"
   ]
  },
  {
   "cell_type": "code",
   "execution_count": 100,
   "id": "5d15f422",
   "metadata": {},
   "outputs": [
    {
     "data": {
      "text/plain": [
       "{'Message': 'String data was successfully upserted to the vector database.',\n",
       " 'User-Id': 'QWERTY',\n",
       " 'Upserted-Metadata': {'DocId': 15, 'ChunkId': 6, 'Title': 'Rebel Heroes'}}"
      ]
     },
     "execution_count": 100,
     "metadata": {},
     "output_type": "execute_result"
    }
   ],
   "source": [
    "payload = {\n",
    "    \"user_id\": user_id,\n",
    "    \"chunk\": \"Captain Cassian Andor was the brave rebel pilot who were tasked to ensure Senator Mon Mothma would return safely to Yavin for and escort her to the safe house of Luthen Rael so she can continue her path on ghost ship\",\n",
    "    \"metadata\": {\n",
    "        \"DocId\": 15,\n",
    "        \"ChunkId\": 6,\n",
    "        \"Title\": \"Rebel Heroes\"\n",
    "    }\n",
    "}\n",
    "requests.post(\n",
    "    url = \"http://127.0.0.1:8080/upsert_data/\",\n",
    "    json = payload\n",
    ").json()"
   ]
  },
  {
   "cell_type": "code",
   "execution_count": 101,
   "id": "1dae1873",
   "metadata": {},
   "outputs": [
    {
     "data": {
      "text/plain": [
       "{'Message': 'List of strings data were successfully upserted to the vector database.',\n",
       " 'User-Id': 'QWERTY',\n",
       " 'Upserted-Metadatas': [{'DocId': 4,\n",
       "   'ChunkId': 12,\n",
       "   'Title': 'Death Star Blueprints'},\n",
       "  {'DocId': 2, 'ChunkId': 3, 'Title': 'Galactic Civil War Chronicles'},\n",
       "  {'DocId': 7, 'ChunkId': 8, 'Title': 'The Rogue One Operation'},\n",
       "  {'DocId': 5, 'ChunkId': 9, 'Title': 'Tatooine Survival Report'},\n",
       "  {'DocId': 6, 'ChunkId': 2, 'Title': 'The Fall of the Senate'},\n",
       "  {'DocId': 9, 'ChunkId': 4, 'Title': 'Kyber Crystal Lore'}]}"
      ]
     },
     "execution_count": 101,
     "metadata": {},
     "output_type": "execute_result"
    }
   ],
   "source": [
    "payload = {\n",
    "    \"user_id\": user_id,\n",
    "    \"chunks\": strings,\n",
    "    \"metadatas\": metadatas,\n",
    "}\n",
    "requests.post(\n",
    "    url = \"http://127.0.0.1:8080/upsert_list_data/\",\n",
    "    json = payload\n",
    ").json()"
   ]
  },
  {
   "cell_type": "code",
   "execution_count": 66,
   "id": "e6f04ee5",
   "metadata": {},
   "outputs": [
    {
     "data": {
      "text/plain": [
       "{'Message': 'All Documents with DocId=15 were successfully deleted.',\n",
       " 'User-Id': 'QWERTY'}"
      ]
     },
     "execution_count": 66,
     "metadata": {},
     "output_type": "execute_result"
    }
   ],
   "source": [
    "payload = {\n",
    "    \"user_id\": user_id,\n",
    "    \"doc_id\": 15,\n",
    "}\n",
    "requests.delete(\n",
    "    url = \"http://127.0.0.1:8080/delete_doc/\",\n",
    "    json = payload\n",
    ").json()"
   ]
  },
  {
   "cell_type": "code",
   "execution_count": 68,
   "id": "ec3c5584",
   "metadata": {},
   "outputs": [
    {
     "data": {
      "text/plain": [
       "{'Message': 'All Documents with Title = \"The Rogue One Operation\" were successfully deleted.',\n",
       " 'User-Id': 'QWERTY'}"
      ]
     },
     "execution_count": 68,
     "metadata": {},
     "output_type": "execute_result"
    }
   ],
   "source": [
    "payload = {\n",
    "  \"user_id\": user_id,\n",
    "  \"doc_title\": \"The Rogue One Operation\"\n",
    "}\n",
    "requests.delete(\n",
    "    url = \"http://127.0.0.1:8080/delete_doc_by_title/\",\n",
    "    json = payload\n",
    ").json()"
   ]
  },
  {
   "cell_type": "code",
   "execution_count": 72,
   "id": "dcab6099",
   "metadata": {},
   "outputs": [
    {
     "data": {
      "text/plain": [
       "{'Message': 'Document with DocId=6 and ChunkId=2 was successfully deleted.',\n",
       " 'User-Id': 'QWERTY'}"
      ]
     },
     "execution_count": 72,
     "metadata": {},
     "output_type": "execute_result"
    }
   ],
   "source": [
    "payload = {\n",
    "    \"user_id\": user_id,\n",
    "    \"doc_id\": 6,\n",
    "    \"chunk_id\": 2,\n",
    "}\n",
    "requests.delete(\n",
    "    url = \"http://127.0.0.1:8080/delete_chunk/\",\n",
    "    json = payload\n",
    ").json()"
   ]
  },
  {
   "cell_type": "code",
   "execution_count": 73,
   "id": "0ca81859",
   "metadata": {},
   "outputs": [
    {
     "data": {
      "text/plain": [
       "{'Message': \"All data in the collection for user 'QWERTY' were successfully deleted.\"}"
      ]
     },
     "execution_count": 73,
     "metadata": {},
     "output_type": "execute_result"
    }
   ],
   "source": [
    "payload = {\n",
    "    \"user_id\": user_id,\n",
    "}\n",
    "requests.delete(\n",
    "    url = \"http://127.0.0.1:8080/delete_user_collection_data/\",\n",
    "    json = payload\n",
    ").json()"
   ]
  },
  {
   "cell_type": "code",
   "execution_count": 97,
   "id": "63692dc9",
   "metadata": {},
   "outputs": [
    {
     "data": {
      "text/plain": [
       "{'Message': \"User collection for user_id = 'QWERTY' was successfully deleted.\"}"
      ]
     },
     "execution_count": 97,
     "metadata": {},
     "output_type": "execute_result"
    }
   ],
   "source": [
    "payload = {\n",
    "    \"user_id\": user_id,\n",
    "}\n",
    "requests.delete(\n",
    "    url = \"http://127.0.0.1:8080/delete_user_collection/\",\n",
    "    json = payload\n",
    ").json()"
   ]
  },
  {
   "cell_type": "code",
   "execution_count": 93,
   "id": "73f32191",
   "metadata": {},
   "outputs": [
    {
     "data": {
      "text/plain": [
       "{'Message': 'String data for DocId=2 ChunkId=3 was successfully updated.',\n",
       " 'User-Id': 'QWERTY'}"
      ]
     },
     "execution_count": 93,
     "metadata": {},
     "output_type": "execute_result"
    }
   ],
   "source": [
    "payload = {\n",
    "    \"user_id\": user_id,\n",
    "    \"chunk\": strings[1],\n",
    "    \"doc_id\": 2,\n",
    "    \"chunk_id\": 3,\n",
    "}\n",
    "requests.put(\n",
    "    url = \"http://127.0.0.1:8080/update_data/\",\n",
    "    json = payload\n",
    ").json()"
   ]
  },
  {
   "cell_type": "code",
   "execution_count": 94,
   "id": "617c7cd9",
   "metadata": {},
   "outputs": [],
   "source": [
    "query = \"What was the primary weakness of the Death Star?\""
   ]
  },
  {
   "cell_type": "code",
   "execution_count": 95,
   "id": "82295874",
   "metadata": {},
   "outputs": [
    {
     "data": {
      "text/plain": [
       "{'Results': [{'DocId': 4,\n",
       "   'ChunkId': 12,\n",
       "   'Title': 'Death Star Blueprints',\n",
       "   'Similarity Score': 0.5193546},\n",
       "  {'DocId': 7,\n",
       "   'ChunkId': 8,\n",
       "   'Title': 'The Rogue One Operation',\n",
       "   'Similarity Score': 0.45591113},\n",
       "  {'DocId': 2,\n",
       "   'ChunkId': 3,\n",
       "   'Title': 'Galactic Civil War Chronicles',\n",
       "   'Similarity Score': 0.43695498},\n",
       "  {'DocId': 6,\n",
       "   'ChunkId': 2,\n",
       "   'Title': 'The Fall of the Senate',\n",
       "   'Similarity Score': 0.4265146},\n",
       "  {'DocId': 15,\n",
       "   'ChunkId': 6,\n",
       "   'Title': 'Rebel Heroes',\n",
       "   'Similarity Score': 0.36432976}]}"
      ]
     },
     "execution_count": 95,
     "metadata": {},
     "output_type": "execute_result"
    }
   ],
   "source": [
    "payload = {\n",
    "    \"user_id\": user_id,\n",
    "    \"query\": query,\n",
    "    \"limit\": 5,\n",
    "}\n",
    "requests.post(\n",
    "    url = \"http://127.0.0.1:8080/search_query/\",\n",
    "    json = payload\n",
    ").json()"
   ]
  },
  {
   "cell_type": "code",
   "execution_count": 107,
   "id": "e41bf49a",
   "metadata": {},
   "outputs": [
    {
     "data": {
      "text/plain": [
       "{'Results': [{'DocId': 4,\n",
       "   'ChunkId': 12,\n",
       "   'Title': 'Death Star Blueprints',\n",
       "   'Similarity Score': 0.5193546},\n",
       "  {'DocId': 2,\n",
       "   'ChunkId': 3,\n",
       "   'Title': 'Galactic Civil War Chronicles',\n",
       "   'Similarity Score': 0.43695495}]}"
      ]
     },
     "execution_count": 107,
     "metadata": {},
     "output_type": "execute_result"
    }
   ],
   "source": [
    "payload = {\n",
    "    \"user_id\": user_id,\n",
    "    \"query\": query,\n",
    "    \"doc_ids\": [2,4],\n",
    "    \"limit\": 5,\n",
    "}\n",
    "requests.post(\n",
    "    url = \"http://127.0.0.1:8080/search_query_on_doc/\",\n",
    "    json = payload\n",
    ").json()"
   ]
  },
  {
   "cell_type": "code",
   "execution_count": 116,
   "id": "b754840d",
   "metadata": {},
   "outputs": [
    {
     "data": {
      "text/plain": [
       "{'User QWERTY data': [{'DocId': 6,\n",
       "   'ChunkId': 2,\n",
       "   'Title': 'The Fall of the Senate'},\n",
       "  {'DocId': 5, 'ChunkId': 9, 'Title': 'Tatooine Survival Report'},\n",
       "  {'DocId': 4, 'ChunkId': 12, 'Title': 'Death Star Blueprints'},\n",
       "  {'DocId': 7, 'ChunkId': 8, 'Title': 'The Rogue One Operation'},\n",
       "  {'DocId': 9, 'ChunkId': 4, 'Title': 'Kyber Crystal Lore'},\n",
       "  {'DocId': 15, 'ChunkId': 6, 'Title': 'Rebel Heroes'},\n",
       "  {'DocId': 2, 'ChunkId': 3, 'Title': 'Galactic Civil War Chronicles'}]}"
      ]
     },
     "execution_count": 116,
     "metadata": {},
     "output_type": "execute_result"
    }
   ],
   "source": [
    "payload = {\n",
    "    \"user_id\": user_id,\n",
    "    \"limit\": 20,\n",
    "}\n",
    "requests.post(\n",
    "    url = \"http://127.0.0.1:8080/scroll_user_collection/\",\n",
    "    json = payload\n",
    ").json()"
   ]
  },
  {
   "cell_type": "code",
   "execution_count": 118,
   "id": "13bb78c7",
   "metadata": {},
   "outputs": [
    {
     "data": {
      "text/plain": [
       "{'User-Collections': ['user_QWERTY']}"
      ]
     },
     "execution_count": 118,
     "metadata": {},
     "output_type": "execute_result"
    }
   ],
   "source": [
    "requests.get(\n",
    "    url = \"http://127.0.0.1:8080/list_users_collection/\"\n",
    ").json()"
   ]
  }
 ],
 "metadata": {
  "kernelspec": {
   "display_name": ".venv",
   "language": "python",
   "name": "python3"
  },
  "language_info": {
   "codemirror_mode": {
    "name": "ipython",
    "version": 3
   },
   "file_extension": ".py",
   "mimetype": "text/x-python",
   "name": "python",
   "nbconvert_exporter": "python",
   "pygments_lexer": "ipython3",
   "version": "3.12.3"
  }
 },
 "nbformat": 4,
 "nbformat_minor": 5
}
